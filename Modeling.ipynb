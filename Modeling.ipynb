{
 "cells": [
  {
   "cell_type": "code",
   "execution_count": 1,
   "metadata": {},
   "outputs": [
    {
     "name": "stdout",
     "output_type": "stream",
     "text": [
      "Model Performance:\n",
      "              precision    recall  f1-score   support\n",
      "\n",
      "           0       0.96      0.92      0.94       619\n",
      "           1       1.00      0.95      0.97        20\n",
      "           2       0.96      0.99      0.97      2175\n",
      "           4       0.98      0.92      0.95       444\n",
      "\n",
      "    accuracy                           0.97      3258\n",
      "   macro avg       0.98      0.95      0.96      3258\n",
      "weighted avg       0.97      0.97      0.97      3258\n",
      "\n",
      "Accuracy: 0.97\n"
     ]
    }
   ],
   "source": [
    "import pandas as pd\n",
    "import numpy as np\n",
    "from sklearn.ensemble import RandomForestClassifier\n",
    "from sklearn.model_selection import train_test_split\n",
    "from sklearn.preprocessing import LabelEncoder\n",
    "import pickle\n",
    "import matplotlib.pyplot as plt\n",
    "from sklearn.metrics import classification_report, accuracy_score\n",
    "\n",
    "file_names = ['FilteredData/filtered_dki1.csv', 'FilteredData/filtered_dki2.csv', 'FilteredData/filtered_dki3.csv', 'FilteredData/filtered_dki4.csv', 'FilteredData/filtered_dki5.csv']\n",
    "datasets = [pd.read_csv(file) for file in file_names]\n",
    "\n",
    "\n",
    "for i, df in enumerate(datasets):\n",
    "    df.rename(columns={'stasiun': 'place', 'categori': 'AQI_category'}, inplace=True)\n",
    "    df['place'] = f'Place_{i+1}'  # Add place column for identification\n",
    "\n",
    "aqi = pd.concat(datasets, ignore_index=True)\n",
    "aqi = aqi.dropna(subset=['AQI_category'])\n",
    "aqi = aqi.drop(columns=[col for col in aqi.columns if 'Unnamed' in col], errors='ignore')\n",
    "\n",
    "aqi.to_csv(\"alldata.csv\")\n",
    "\n",
    "\n",
    "le = LabelEncoder()\n",
    "aqi['AQI_category_encoded'] = le.fit_transform(aqi['AQI_category'])\n",
    "\n",
    "\n",
    "features = ['pm10', 'so2', 'co', 'o3', 'no2', 'place']\n",
    "aqi = pd.get_dummies(aqi, columns=['place'], drop_first=True)\n",
    "X = aqi.drop(columns=['AQI_category', 'AQI_category_encoded'])\n",
    "y = aqi['AQI_category_encoded']\n",
    "\n",
    "\n",
    "X_train, X_test, y_train, y_test = train_test_split(X, y, test_size=0.2, random_state=42)\n",
    "\n",
    "\n",
    "model = RandomForestClassifier(random_state=42)\n",
    "model.fit(X_train, y_train)\n",
    "\n",
    "\n",
    "y_pred = model.predict(X_test)\n",
    "print(\"Model Performance:\")\n",
    "print(classification_report(y_test, y_pred))\n",
    "print(f\"Accuracy: {accuracy_score(y_test, y_pred):.2f}\")\n",
    "\n",
    "\n",
    "with open('rf_model.pkl', 'wb') as f:\n",
    "    pickle.dump(model, f)\n",
    "\n",
    "with open('label_encoder.pkl', 'wb') as f:\n",
    "    pickle.dump(le, f)\n"
   ]
  },
  {
   "cell_type": "code",
   "execution_count": 5,
   "metadata": {},
   "outputs": [
    {
     "name": "stdout",
     "output_type": "stream",
     "text": [
      "Predicted AQI: 0\n"
     ]
    }
   ],
   "source": [
    "def predict_aqi(pm10, so2, co, o3, no2, place):\n",
    "\n",
    "    # Create a DataFrame for the input\n",
    "    input_features = {\n",
    "        'pm10': [pm10],\n",
    "        'so2': [so2],\n",
    "        'co': [co],\n",
    "        'o3': [o3],\n",
    "        'no2': [no2]\n",
    "    }\n",
    "    input_df = pd.DataFrame(input_features)\n",
    "\n",
    "    # Add dummy variables for the place\n",
    "    place_dummies = pd.get_dummies([place], prefix='place', drop_first=True)\n",
    "    for col in model.feature_names_in_:\n",
    "        if col.startswith('place_') and col not in place_dummies.columns:\n",
    "            place_dummies[col] = 0  # Add missing dummy columns with 0\n",
    "    input_df = pd.concat([input_df, place_dummies], axis=1)\n",
    "\n",
    "    # Align the input DataFrame with the model's expected columns\n",
    "    input_df = input_df.reindex(columns=model.feature_names_in_, fill_value=0)\n",
    "\n",
    "    # Predict using the loaded model\n",
    "    predicted_label = model.predict(input_df)[0]\n",
    "\n",
    "    # Convert back to the original category label\n",
    "    return le.inverse_transform([predicted_label])[0]\n",
    "\n",
    "# Example Prediction\n",
    "example_prediction = predict_aqi(\n",
    "    pm10=27,\n",
    "    so2=2,\n",
    "    co=19,\n",
    "    o3=20,\n",
    "    no2=9,\n",
    "    place='Place_1'\n",
    ")\n",
    "\n",
    "print(f\"Predicted AQI: {example_prediction}\")"
   ]
  },
  {
   "cell_type": "code",
   "execution_count": null,
   "metadata": {},
   "outputs": [],
   "source": []
  }
 ],
 "metadata": {
  "kernelspec": {
   "display_name": "Python 3",
   "language": "python",
   "name": "python3"
  },
  "language_info": {
   "codemirror_mode": {
    "name": "ipython",
    "version": 3
   },
   "file_extension": ".py",
   "mimetype": "text/x-python",
   "name": "python",
   "nbconvert_exporter": "python",
   "pygments_lexer": "ipython3",
   "version": "3.13.1"
  }
 },
 "nbformat": 4,
 "nbformat_minor": 2
}
