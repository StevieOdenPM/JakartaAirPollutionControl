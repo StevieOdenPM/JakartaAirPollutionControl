{
 "cells": [
  {
   "cell_type": "code",
   "execution_count": 90,
   "id": "14bc5c6f-98c9-4b5f-85ee-cb4c656691e1",
   "metadata": {
    "id": "14bc5c6f-98c9-4b5f-85ee-cb4c656691e1"
   },
   "outputs": [],
   "source": [
    "import pandas as pd\n",
    "import matplotlib.pyplot as plt\n",
    "import numpy as np\n",
    "from sklearn.model_selection import train_test_split\n",
    "from sklearn.preprocessing import LabelEncoder\n",
    "from sklearn.ensemble import RandomForestClassifier\n",
    "from sklearn.metrics import classification_report, accuracy_score\n",
    "from datetime import datetime"
   ]
  },
  {
   "cell_type": "code",
   "execution_count": 91,
   "id": "48643386-b6af-4b13-8d14-3d5c9c2a5455",
   "metadata": {
    "id": "48643386-b6af-4b13-8d14-3d5c9c2a5455"
   },
   "outputs": [],
   "source": [
    "aqi = pd.read_csv(\".\\RawData\\ispu_dki1.csv\", index_col=\"tanggal\")\n",
    "aqi = aqi.drop(columns=['max'])\n",
    "aqi = aqi.drop(columns=['critical'])\n",
    "aqi = aqi.drop(columns=['pm25'])\n",
    "aqi = aqi.drop_duplicates()"
   ]
  },
  {
   "cell_type": "code",
   "execution_count": 92,
   "id": "RCFmwAmZBFa9",
   "metadata": {
    "colab": {
     "base_uri": "https://localhost:8080/",
     "height": 272
    },
    "id": "RCFmwAmZBFa9",
    "outputId": "4cb66b16-5811-42b3-cf71-c8cfea8f7821"
   },
   "outputs": [
    {
     "data": {
      "text/plain": [
       "stasiun       0\n",
       "pm10        101\n",
       "so2          66\n",
       "co           41\n",
       "o3           94\n",
       "no2          84\n",
       "categori      0\n",
       "dtype: int64"
      ]
     },
     "execution_count": 92,
     "metadata": {},
     "output_type": "execute_result"
    }
   ],
   "source": [
    "aqi.apply(pd.isnull).sum()"
   ]
  },
  {
   "cell_type": "code",
   "execution_count": 93,
   "id": "cd66b2f7",
   "metadata": {},
   "outputs": [],
   "source": [
    "for col in [\"pm10\", \"so2\", \"co\", \"o3\", \"no2\"]:\n",
    "    # Get the most frequent (mode) value of the column\n",
    "    mode_value = aqi[col].mode()[0]\n",
    "    # Fill NaN values with the mode\n",
    "    aqi[col] = aqi[col].fillna(mode_value)"
   ]
  },
  {
   "cell_type": "code",
   "execution_count": 94,
   "id": "06812501-5fdb-434a-835f-0daa88599ceb",
   "metadata": {
    "colab": {
     "base_uri": "https://localhost:8080/",
     "height": 272
    },
    "id": "06812501-5fdb-434a-835f-0daa88599ceb",
    "outputId": "a3063100-7f42-48ab-c871-1ec669bf6c5e"
   },
   "outputs": [
    {
     "data": {
      "text/plain": [
       "stasiun     0.0\n",
       "pm10        0.0\n",
       "so2         0.0\n",
       "co          0.0\n",
       "o3          0.0\n",
       "no2         0.0\n",
       "categori    0.0\n",
       "dtype: float64"
      ]
     },
     "execution_count": 94,
     "metadata": {},
     "output_type": "execute_result"
    }
   ],
   "source": [
    "aqi.apply(pd.isnull).sum()/aqi.shape[0]"
   ]
  },
  {
   "cell_type": "code",
   "execution_count": 95,
   "id": "350fce12-e1dc-48f4-a3e5-b367c58df097",
   "metadata": {
    "colab": {
     "base_uri": "https://localhost:8080/",
     "height": 272
    },
    "id": "350fce12-e1dc-48f4-a3e5-b367c58df097",
    "outputId": "239d8ed3-2232-4fb6-aaf0-ed171acc4045"
   },
   "outputs": [
    {
     "data": {
      "text/plain": [
       "stasiun      object\n",
       "pm10        float64\n",
       "so2         float64\n",
       "co          float64\n",
       "o3          float64\n",
       "no2         float64\n",
       "categori     object\n",
       "dtype: object"
      ]
     },
     "execution_count": 95,
     "metadata": {},
     "output_type": "execute_result"
    }
   ],
   "source": [
    "aqi.dtypes"
   ]
  },
  {
   "cell_type": "code",
   "execution_count": 96,
   "id": "73b1c90b-6f22-43b3-9119-741ea11f6f56",
   "metadata": {
    "colab": {
     "base_uri": "https://localhost:8080/",
     "height": 455
    },
    "id": "73b1c90b-6f22-43b3-9119-741ea11f6f56",
    "outputId": "c67be343-01ce-452c-e1af-26d78b8fffbf"
   },
   "outputs": [
    {
     "data": {
      "text/html": [
       "<div>\n",
       "<style scoped>\n",
       "    .dataframe tbody tr th:only-of-type {\n",
       "        vertical-align: middle;\n",
       "    }\n",
       "\n",
       "    .dataframe tbody tr th {\n",
       "        vertical-align: top;\n",
       "    }\n",
       "\n",
       "    .dataframe thead th {\n",
       "        text-align: right;\n",
       "    }\n",
       "</style>\n",
       "<table border=\"1\" class=\"dataframe\">\n",
       "  <thead>\n",
       "    <tr style=\"text-align: right;\">\n",
       "      <th></th>\n",
       "      <th>stasiun</th>\n",
       "      <th>pm10</th>\n",
       "      <th>so2</th>\n",
       "      <th>co</th>\n",
       "      <th>o3</th>\n",
       "      <th>no2</th>\n",
       "      <th>categori</th>\n",
       "    </tr>\n",
       "    <tr>\n",
       "      <th>tanggal</th>\n",
       "      <th></th>\n",
       "      <th></th>\n",
       "      <th></th>\n",
       "      <th></th>\n",
       "      <th></th>\n",
       "      <th></th>\n",
       "      <th></th>\n",
       "    </tr>\n",
       "  </thead>\n",
       "  <tbody>\n",
       "    <tr>\n",
       "      <th>2010-01-01</th>\n",
       "      <td>DKI1 (Bunderan HI)</td>\n",
       "      <td>60.0</td>\n",
       "      <td>4.0</td>\n",
       "      <td>73.0</td>\n",
       "      <td>27.0</td>\n",
       "      <td>14.0</td>\n",
       "      <td>SEDANG</td>\n",
       "    </tr>\n",
       "    <tr>\n",
       "      <th>2010-01-02</th>\n",
       "      <td>DKI1 (Bunderan HI)</td>\n",
       "      <td>32.0</td>\n",
       "      <td>2.0</td>\n",
       "      <td>16.0</td>\n",
       "      <td>33.0</td>\n",
       "      <td>9.0</td>\n",
       "      <td>BAIK</td>\n",
       "    </tr>\n",
       "    <tr>\n",
       "      <th>2010-01-03</th>\n",
       "      <td>DKI1 (Bunderan HI)</td>\n",
       "      <td>27.0</td>\n",
       "      <td>2.0</td>\n",
       "      <td>19.0</td>\n",
       "      <td>20.0</td>\n",
       "      <td>9.0</td>\n",
       "      <td>BAIK</td>\n",
       "    </tr>\n",
       "    <tr>\n",
       "      <th>2010-01-04</th>\n",
       "      <td>DKI1 (Bunderan HI)</td>\n",
       "      <td>22.0</td>\n",
       "      <td>2.0</td>\n",
       "      <td>16.0</td>\n",
       "      <td>15.0</td>\n",
       "      <td>6.0</td>\n",
       "      <td>BAIK</td>\n",
       "    </tr>\n",
       "    <tr>\n",
       "      <th>2010-01-05</th>\n",
       "      <td>DKI1 (Bunderan HI)</td>\n",
       "      <td>25.0</td>\n",
       "      <td>2.0</td>\n",
       "      <td>17.0</td>\n",
       "      <td>15.0</td>\n",
       "      <td>8.0</td>\n",
       "      <td>BAIK</td>\n",
       "    </tr>\n",
       "    <tr>\n",
       "      <th>...</th>\n",
       "      <td>...</td>\n",
       "      <td>...</td>\n",
       "      <td>...</td>\n",
       "      <td>...</td>\n",
       "      <td>...</td>\n",
       "      <td>...</td>\n",
       "      <td>...</td>\n",
       "    </tr>\n",
       "    <tr>\n",
       "      <th>2021-12-27</th>\n",
       "      <td>DKI1 (Bunderan HI)</td>\n",
       "      <td>52.0</td>\n",
       "      <td>61.0</td>\n",
       "      <td>15.0</td>\n",
       "      <td>20.0</td>\n",
       "      <td>15.0</td>\n",
       "      <td>SEDANG</td>\n",
       "    </tr>\n",
       "    <tr>\n",
       "      <th>2021-12-28</th>\n",
       "      <td>DKI1 (Bunderan HI)</td>\n",
       "      <td>51.0</td>\n",
       "      <td>53.0</td>\n",
       "      <td>15.0</td>\n",
       "      <td>18.0</td>\n",
       "      <td>13.0</td>\n",
       "      <td>SEDANG</td>\n",
       "    </tr>\n",
       "    <tr>\n",
       "      <th>2021-12-29</th>\n",
       "      <td>DKI1 (Bunderan HI)</td>\n",
       "      <td>31.0</td>\n",
       "      <td>54.0</td>\n",
       "      <td>10.0</td>\n",
       "      <td>24.0</td>\n",
       "      <td>11.0</td>\n",
       "      <td>SEDANG</td>\n",
       "    </tr>\n",
       "    <tr>\n",
       "      <th>2021-12-30</th>\n",
       "      <td>DKI1 (Bunderan HI)</td>\n",
       "      <td>55.0</td>\n",
       "      <td>53.0</td>\n",
       "      <td>16.0</td>\n",
       "      <td>23.0</td>\n",
       "      <td>14.0</td>\n",
       "      <td>SEDANG</td>\n",
       "    </tr>\n",
       "    <tr>\n",
       "      <th>2021-12-31</th>\n",
       "      <td>DKI1 (Bunderan HI)</td>\n",
       "      <td>62.0</td>\n",
       "      <td>52.0</td>\n",
       "      <td>23.0</td>\n",
       "      <td>20.0</td>\n",
       "      <td>14.0</td>\n",
       "      <td>SEDANG</td>\n",
       "    </tr>\n",
       "  </tbody>\n",
       "</table>\n",
       "<p>4271 rows × 7 columns</p>\n",
       "</div>"
      ],
      "text/plain": [
       "                       stasiun  pm10   so2    co    o3   no2 categori\n",
       "tanggal                                                              \n",
       "2010-01-01  DKI1 (Bunderan HI)  60.0   4.0  73.0  27.0  14.0   SEDANG\n",
       "2010-01-02  DKI1 (Bunderan HI)  32.0   2.0  16.0  33.0   9.0     BAIK\n",
       "2010-01-03  DKI1 (Bunderan HI)  27.0   2.0  19.0  20.0   9.0     BAIK\n",
       "2010-01-04  DKI1 (Bunderan HI)  22.0   2.0  16.0  15.0   6.0     BAIK\n",
       "2010-01-05  DKI1 (Bunderan HI)  25.0   2.0  17.0  15.0   8.0     BAIK\n",
       "...                        ...   ...   ...   ...   ...   ...      ...\n",
       "2021-12-27  DKI1 (Bunderan HI)  52.0  61.0  15.0  20.0  15.0   SEDANG\n",
       "2021-12-28  DKI1 (Bunderan HI)  51.0  53.0  15.0  18.0  13.0   SEDANG\n",
       "2021-12-29  DKI1 (Bunderan HI)  31.0  54.0  10.0  24.0  11.0   SEDANG\n",
       "2021-12-30  DKI1 (Bunderan HI)  55.0  53.0  16.0  23.0  14.0   SEDANG\n",
       "2021-12-31  DKI1 (Bunderan HI)  62.0  52.0  23.0  20.0  14.0   SEDANG\n",
       "\n",
       "[4271 rows x 7 columns]"
      ]
     },
     "execution_count": 96,
     "metadata": {},
     "output_type": "execute_result"
    }
   ],
   "source": [
    "aqi"
   ]
  },
  {
   "cell_type": "code",
   "execution_count": 97,
   "id": "795b569c-e191-45aa-912f-3d46fadac905",
   "metadata": {
    "id": "795b569c-e191-45aa-912f-3d46fadac905"
   },
   "outputs": [],
   "source": [
    "aqi.index = pd.to_datetime(aqi.index)\n"
   ]
  },
  {
   "cell_type": "code",
   "execution_count": 98,
   "id": "853a8b90-8713-475b-942a-02dc336c3161",
   "metadata": {
    "colab": {
     "base_uri": "https://localhost:8080/"
    },
    "id": "853a8b90-8713-475b-942a-02dc336c3161",
    "outputId": "14b260fb-9f6f-4085-d25c-1c7f91b333c9"
   },
   "outputs": [
    {
     "data": {
      "text/plain": [
       "DatetimeIndex(['2010-01-01', '2010-01-02', '2010-01-03', '2010-01-04',\n",
       "               '2010-01-05', '2010-01-06', '2010-01-07', '2010-01-08',\n",
       "               '2010-01-09', '2010-01-10',\n",
       "               ...\n",
       "               '2021-12-22', '2021-12-23', '2021-12-24', '2021-12-25',\n",
       "               '2021-12-26', '2021-12-27', '2021-12-28', '2021-12-29',\n",
       "               '2021-12-30', '2021-12-31'],\n",
       "              dtype='datetime64[ns]', name='tanggal', length=4271, freq=None)"
      ]
     },
     "execution_count": 98,
     "metadata": {},
     "output_type": "execute_result"
    }
   ],
   "source": [
    "aqi.index"
   ]
  },
  {
   "cell_type": "code",
   "execution_count": 99,
   "id": "39450e90",
   "metadata": {},
   "outputs": [
    {
     "data": {
      "text/html": [
       "<div>\n",
       "<style scoped>\n",
       "    .dataframe tbody tr th:only-of-type {\n",
       "        vertical-align: middle;\n",
       "    }\n",
       "\n",
       "    .dataframe tbody tr th {\n",
       "        vertical-align: top;\n",
       "    }\n",
       "\n",
       "    .dataframe thead th {\n",
       "        text-align: right;\n",
       "    }\n",
       "</style>\n",
       "<table border=\"1\" class=\"dataframe\">\n",
       "  <thead>\n",
       "    <tr style=\"text-align: right;\">\n",
       "      <th></th>\n",
       "      <th>stasiun</th>\n",
       "      <th>pm10</th>\n",
       "      <th>so2</th>\n",
       "      <th>co</th>\n",
       "      <th>o3</th>\n",
       "      <th>no2</th>\n",
       "      <th>categori</th>\n",
       "    </tr>\n",
       "    <tr>\n",
       "      <th>tanggal</th>\n",
       "      <th></th>\n",
       "      <th></th>\n",
       "      <th></th>\n",
       "      <th></th>\n",
       "      <th></th>\n",
       "      <th></th>\n",
       "      <th></th>\n",
       "    </tr>\n",
       "  </thead>\n",
       "  <tbody>\n",
       "    <tr>\n",
       "      <th>2012-11-27</th>\n",
       "      <td>DKI1 (Bunderan HI)</td>\n",
       "      <td>20.0</td>\n",
       "      <td>37.0</td>\n",
       "      <td>52.0</td>\n",
       "      <td>48.0</td>\n",
       "      <td>18.0</td>\n",
       "      <td>SEDANG</td>\n",
       "    </tr>\n",
       "    <tr>\n",
       "      <th>2012-11-28</th>\n",
       "      <td>DKI1 (Bunderan HI)</td>\n",
       "      <td>19.0</td>\n",
       "      <td>30.0</td>\n",
       "      <td>29.0</td>\n",
       "      <td>47.0</td>\n",
       "      <td>16.0</td>\n",
       "      <td>BAIK</td>\n",
       "    </tr>\n",
       "    <tr>\n",
       "      <th>2012-11-29</th>\n",
       "      <td>DKI1 (Bunderan HI)</td>\n",
       "      <td>65.0</td>\n",
       "      <td>32.0</td>\n",
       "      <td>39.0</td>\n",
       "      <td>97.0</td>\n",
       "      <td>21.0</td>\n",
       "      <td>SEDANG</td>\n",
       "    </tr>\n",
       "    <tr>\n",
       "      <th>2012-11-30</th>\n",
       "      <td>DKI1 (Bunderan HI)</td>\n",
       "      <td>76.0</td>\n",
       "      <td>30.0</td>\n",
       "      <td>56.0</td>\n",
       "      <td>94.0</td>\n",
       "      <td>19.0</td>\n",
       "      <td>SEDANG</td>\n",
       "    </tr>\n",
       "    <tr>\n",
       "      <th>2012-12-01</th>\n",
       "      <td>DKI1 (Bunderan HI)</td>\n",
       "      <td>59.0</td>\n",
       "      <td>30.0</td>\n",
       "      <td>45.0</td>\n",
       "      <td>62.0</td>\n",
       "      <td>17.0</td>\n",
       "      <td>SEDANG</td>\n",
       "    </tr>\n",
       "    <tr>\n",
       "      <th>...</th>\n",
       "      <td>...</td>\n",
       "      <td>...</td>\n",
       "      <td>...</td>\n",
       "      <td>...</td>\n",
       "      <td>...</td>\n",
       "      <td>...</td>\n",
       "      <td>...</td>\n",
       "    </tr>\n",
       "    <tr>\n",
       "      <th>2021-12-27</th>\n",
       "      <td>DKI1 (Bunderan HI)</td>\n",
       "      <td>52.0</td>\n",
       "      <td>61.0</td>\n",
       "      <td>15.0</td>\n",
       "      <td>20.0</td>\n",
       "      <td>15.0</td>\n",
       "      <td>SEDANG</td>\n",
       "    </tr>\n",
       "    <tr>\n",
       "      <th>2021-12-28</th>\n",
       "      <td>DKI1 (Bunderan HI)</td>\n",
       "      <td>51.0</td>\n",
       "      <td>53.0</td>\n",
       "      <td>15.0</td>\n",
       "      <td>18.0</td>\n",
       "      <td>13.0</td>\n",
       "      <td>SEDANG</td>\n",
       "    </tr>\n",
       "    <tr>\n",
       "      <th>2021-12-29</th>\n",
       "      <td>DKI1 (Bunderan HI)</td>\n",
       "      <td>31.0</td>\n",
       "      <td>54.0</td>\n",
       "      <td>10.0</td>\n",
       "      <td>24.0</td>\n",
       "      <td>11.0</td>\n",
       "      <td>SEDANG</td>\n",
       "    </tr>\n",
       "    <tr>\n",
       "      <th>2021-12-30</th>\n",
       "      <td>DKI1 (Bunderan HI)</td>\n",
       "      <td>55.0</td>\n",
       "      <td>53.0</td>\n",
       "      <td>16.0</td>\n",
       "      <td>23.0</td>\n",
       "      <td>14.0</td>\n",
       "      <td>SEDANG</td>\n",
       "    </tr>\n",
       "    <tr>\n",
       "      <th>2021-12-31</th>\n",
       "      <td>DKI1 (Bunderan HI)</td>\n",
       "      <td>62.0</td>\n",
       "      <td>52.0</td>\n",
       "      <td>23.0</td>\n",
       "      <td>20.0</td>\n",
       "      <td>14.0</td>\n",
       "      <td>SEDANG</td>\n",
       "    </tr>\n",
       "  </tbody>\n",
       "</table>\n",
       "<p>3230 rows × 7 columns</p>\n",
       "</div>"
      ],
      "text/plain": [
       "                       stasiun  pm10   so2    co    o3   no2 categori\n",
       "tanggal                                                              \n",
       "2012-11-27  DKI1 (Bunderan HI)  20.0  37.0  52.0  48.0  18.0   SEDANG\n",
       "2012-11-28  DKI1 (Bunderan HI)  19.0  30.0  29.0  47.0  16.0     BAIK\n",
       "2012-11-29  DKI1 (Bunderan HI)  65.0  32.0  39.0  97.0  21.0   SEDANG\n",
       "2012-11-30  DKI1 (Bunderan HI)  76.0  30.0  56.0  94.0  19.0   SEDANG\n",
       "2012-12-01  DKI1 (Bunderan HI)  59.0  30.0  45.0  62.0  17.0   SEDANG\n",
       "...                        ...   ...   ...   ...   ...   ...      ...\n",
       "2021-12-27  DKI1 (Bunderan HI)  52.0  61.0  15.0  20.0  15.0   SEDANG\n",
       "2021-12-28  DKI1 (Bunderan HI)  51.0  53.0  15.0  18.0  13.0   SEDANG\n",
       "2021-12-29  DKI1 (Bunderan HI)  31.0  54.0  10.0  24.0  11.0   SEDANG\n",
       "2021-12-30  DKI1 (Bunderan HI)  55.0  53.0  16.0  23.0  14.0   SEDANG\n",
       "2021-12-31  DKI1 (Bunderan HI)  62.0  52.0  23.0  20.0  14.0   SEDANG\n",
       "\n",
       "[3230 rows x 7 columns]"
      ]
     },
     "execution_count": 99,
     "metadata": {},
     "output_type": "execute_result"
    }
   ],
   "source": [
    "aqi = aqi[aqi.index >= '2012-11-27']\n",
    "\n",
    "\n",
    "aqi"
   ]
  },
  {
   "cell_type": "code",
   "execution_count": 100,
   "id": "69a977de-2782-4087-b101-116886e4f61e",
   "metadata": {
    "colab": {
     "base_uri": "https://localhost:8080/",
     "height": 290
    },
    "id": "69a977de-2782-4087-b101-116886e4f61e",
    "outputId": "69ff2b01-c0ba-4614-8cfd-24ed3aabd693"
   },
   "outputs": [],
   "source": [
    "aqi.to_csv('filtered_dki1.csv')"
   ]
  }
 ],
 "metadata": {
  "colab": {
   "provenance": []
  },
  "kernelspec": {
   "display_name": "Python 3",
   "language": "python",
   "name": "python3"
  },
  "language_info": {
   "codemirror_mode": {
    "name": "ipython",
    "version": 3
   },
   "file_extension": ".py",
   "mimetype": "text/x-python",
   "name": "python",
   "nbconvert_exporter": "python",
   "pygments_lexer": "ipython3",
   "version": "3.11.10"
  }
 },
 "nbformat": 4,
 "nbformat_minor": 5
}
